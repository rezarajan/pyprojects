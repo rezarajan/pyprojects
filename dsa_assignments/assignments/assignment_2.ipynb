{
 "cells": [
  {
   "cell_type": "markdown",
   "id": "b125a6ed-fad8-4786-b7b1-151b53dff662",
   "metadata": {},
   "source": [
    "## 1. (15 points)  \n",
    "\n",
    "**Deque Rotation**\n",
    "\n",
    "Write a function that accepts a **deque** and an integer, **n**\n",
    "\n",
    "- It should then rotate the contents of the deque by n steps to the right\n",
    "- If n is negative, it should rotate it to the left\n",
    "- Do not use the built-in rotate functions/methods\n",
    "- You may write your own deque class, use the one from the `dsa` module (`dsa.deque`) or use the standard Python [`deque`](https://docs.python.org/3/library/collections.html#collections.deque)\n",
    "\n",
    "- Provide the Big O time complexity for both the average and worst-case scenarios\n",
    "- Provide the Big O space complexity, considering only the additional space required beyond the input\n",
    "\n",
    "Examples:\n",
    "\n",
    "- `[1, 2, 3, 4, 5]` and `2` -> `[4, 5, 1, 2, 3]`\n",
    "- `[1, 2, 3, 4, 5]` and `-1` -> `[2, 3, 4, 5, 1]`\n",
    "- `[1, 2, 3, 4]` and `5` -> `[4, 1, 2, 3]`\n",
    "\n",
    "---\n",
    "\n",
    "### Answers\n",
    "\n",
    "The procedure `rotate_deque` takes as input a `collections.deque` object and an integer, `k`, representing the number of places to rotate elements.\n",
    "\n",
    "Each rotation operation involves a pop and append, which are $O(1)$ for a deque; since this happens $|k|$ times, and k is bounded to the size of the deque, $n$, the overall time complexity is $O(n)$ in both the average and worst cases.\n",
    "\n",
    "Since the operations occur in-place and no re-allocations are necessary for the deque (i.e., no extra space is required), the space complexity is $O(1)$."
   ]
  },
  {
   "cell_type": "code",
   "execution_count": 1,
   "id": "854f462f-042f-4950-a1fa-b47c7f079456",
   "metadata": {},
   "outputs": [],
   "source": [
    "from collections import deque"
   ]
  },
  {
   "cell_type": "code",
   "execution_count": 2,
   "id": "e8482d42-872b-4323-982f-b760bfe71a22",
   "metadata": {},
   "outputs": [],
   "source": [
    "def rotate_deque(d: deque, k: int):\n",
    "    '''\n",
    "    Rotate rotates a deuqe in-place k places:\n",
    "        k > 0 results in right rotation.\n",
    "        k < 0 results in left rotation.\n",
    "    Time Complexity is O(n) in the worst and average cases.\n",
    "    Space Complexity is O(1) in all cases, since no extra space is required (in-place)\n",
    "    '''\n",
    "    \n",
    "    n = len(d)\n",
    "    if n == 0:\n",
    "        return\n",
    "\n",
    "    # Normalize k\n",
    "    k = k % n\n",
    "\n",
    "    # Rotate based on direction\n",
    "    # Rotate right\n",
    "    if k > 0:\n",
    "        for _ in range(k): # O(k)\n",
    "            d.appendleft(d.pop()) # O(1)\n",
    "        return\n",
    "\n",
    "    # Rotate left\n",
    "    for _ in range(-k): # O(|k|)\n",
    "        d.append(d.popleft()) # O(1)\n",
    "    "
   ]
  },
  {
   "cell_type": "code",
   "execution_count": 3,
   "id": "dd30268a-a872-4f6d-aecb-f40058506a66",
   "metadata": {},
   "outputs": [
    {
     "name": "stdout",
     "output_type": "stream",
     "text": [
      "\n",
      "Test case: input=deque([]), k=3, expected=deque([])\n",
      "Result: deque([])\n",
      "\n",
      "Test case: input=deque([1]), k=5, expected=deque([1])\n",
      "Result: deque([1])\n",
      "\n",
      "Test case: input=deque([1, 2, 3, 4]), k=0, expected=deque([1, 2, 3, 4])\n",
      "Result: deque([1, 2, 3, 4])\n",
      "\n",
      "Test case: input=deque([1, 2, 3, 4, 5]), k=2, expected=deque([4, 5, 1, 2, 3])\n",
      "Result: deque([4, 5, 1, 2, 3])\n",
      "\n",
      "Test case: input=deque([1, 2, 3, 4, 5]), k=-2, expected=deque([3, 4, 5, 1, 2])\n",
      "Result: deque([3, 4, 5, 1, 2])\n",
      "\n",
      "Test case: input=deque([1, 2, 3, 4]), k=4, expected=deque([1, 2, 3, 4])\n",
      "Result: deque([1, 2, 3, 4])\n",
      "\n",
      "Test case: input=deque([10, 20, 30, 40, 50]), k=12, expected=deque([40, 50, 10, 20, 30])\n",
      "Result: deque([40, 50, 10, 20, 30])\n",
      "✅ All test cases passed!\n"
     ]
    }
   ],
   "source": [
    "def test_rotate_deque():\n",
    "    # (input_list, k, expected_list)\n",
    "    test_cases = [\n",
    "        (deque([]), 3, deque([])),                                \n",
    "        (deque([1]), 5, deque([1])),                              \n",
    "        (deque([1, 2, 3, 4]), 0, deque([1, 2, 3, 4])),            \n",
    "        (deque([1, 2, 3, 4, 5]), 2, deque([4, 5, 1, 2, 3])),      \n",
    "        (deque([1, 2, 3, 4, 5]), -2, deque([3, 4, 5, 1, 2])),     \n",
    "        (deque([1, 2, 3, 4]), 4, deque([1, 2, 3, 4])),            \n",
    "        (deque([10, 20, 30, 40, 50]), 12, deque([40, 50, 10, 20, 30])),  \n",
    "    ]\n",
    "\n",
    "    for input_list, k, expected in test_cases:\n",
    "        print(f\"\\nTest case: input={input_list}, k={k}, expected={expected}\")\n",
    "        d = deque(input_list)\n",
    "        rotate_deque(d, k)\n",
    "        print(f\"Result: {d}\")\n",
    "        assert d == expected, f\"Failed for input={input_list}, k={k}, expected={expected}\" \n",
    "\n",
    "    print(\"✅ All test cases passed!\")\n",
    "\n",
    "test_rotate_deque()"
   ]
  },
  {
   "cell_type": "code",
   "execution_count": null,
   "id": "7885b255-1de9-4135-8005-587de0a927da",
   "metadata": {},
   "outputs": [],
   "source": []
  }
 ],
 "metadata": {
  "kernelspec": {
   "display_name": "Python 3 (ipykernel)",
   "language": "python",
   "name": "python3"
  },
  "language_info": {
   "codemirror_mode": {
    "name": "ipython",
    "version": 3
   },
   "file_extension": ".py",
   "mimetype": "text/x-python",
   "name": "python",
   "nbconvert_exporter": "python",
   "pygments_lexer": "ipython3",
   "version": "3.13.7"
  }
 },
 "nbformat": 4,
 "nbformat_minor": 5
}
