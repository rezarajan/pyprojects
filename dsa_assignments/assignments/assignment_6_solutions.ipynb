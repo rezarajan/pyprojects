{
 "cells": [
  {
   "cell_type": "markdown",
   "id": "a1596007-a39c-4579-8c60-8594c2cb4469",
   "metadata": {},
   "source": [
    "# Assignment 6 Solutions\n",
    "---\n",
    "1. [Find DFS Path in an Adjacency List](#question-1)\n",
    "1. [Verify Path BFS in an Adjacency Matrix](#question-2)\n",
    "1. [Negative Weights in Dijkstra's Algorithm](#question-3)\n",
    "1. [Validate Path in a Directed Acyclic Graph](#question-4)\n",
    "1. [MST Verifier](#question-5)\n",
    "---"
   ]
  },
  {
   "cell_type": "markdown",
   "id": "618290dc-2adf-4b11-954f-6730c999509d",
   "metadata": {},
   "source": [
    "## <a name=\"question-1\"></a>1. Find DFS Path in an Adjacency List\n",
    "\n",
    "Write a function that performs a depth-first search (DFS) on a graph represented as an adjacency list. \n",
    "\n",
    "The function should take the following inputs:\n",
    "* A starting vertex\n",
    "* An ending vertex\n",
    "\n",
    "\n",
    "Your function should explore the graph using DFS and return:\n",
    "* A list representing the path from the starting vertex to the ending vertex, if the ending vertex is found\n",
    "* None if the ending vertex is not reachable from the starting vertex\n",
    "\n"
   ]
  },
  {
   "cell_type": "code",
   "execution_count": null,
   "id": "cc6b1eff-7674-4b16-a157-417c4c4b5052",
   "metadata": {},
   "outputs": [],
   "source": [
    "from dsa.graph import AdjacencyListGraph\n",
    "\n",
    "def dfs(graph, start, end, visited=None, path=None):\n",
    "    if visited is None:\n",
    "        visited = set()  # Initialize visited set on the first call\n",
    "\n",
    "    if path is None:\n",
    "        path = []  # Initialize path list on the first call\n",
    "\n",
    "    visited.add(start)  # Mark the current node as visited\n",
    "    path = path + [start]  # Append the current node to the path\n",
    "\n",
    "    if start == end:\n",
    "        return path  # Found the destination; return the current path\n",
    "\n",
    "    # Explore each unvisited adjacent\n",
    "    for adjacent in graph.adjacents(start):\n",
    "        if adjacent not in visited:\n",
    "            new_path = dfs(graph, adjacent, end, visited, path)  # Recursive DFS call\n",
    "            if new_path:  # If a valid path is found, return it\n",
    "                return new_path\n",
    "\n",
    "    return None  # No path found from this branch\n"
   ]
  },
  {
   "cell_type": "code",
   "execution_count": null,
   "id": "cba7c46f-42d0-4f50-8823-637bb0676e3c",
   "metadata": {},
   "outputs": [],
   "source": [
    "from dsa.draw import GraphDraw\n",
    "\n",
    "# undirected graph\n",
    "g = AdjacencyListGraph()\n",
    "g.add_edge(\"A\", \"B\")\n",
    "g.add_edge(\"A\", \"D\")\n",
    "\n",
    "g.add_edge(\"B\", \"C\")\n",
    "g.add_edge(\"B\", \"F\")\n",
    "\n",
    "g.add_edge(\"C\", \"D\")\n",
    "g.add_edge(\"C\", \"F\")\n",
    "\n",
    "g.add_edge(\"D\", \"E\")\n",
    "\n",
    "g.add_edge(\"F\", \"E\")\n",
    "\n",
    "\n",
    "gd = GraphDraw(g)\n",
    "gd.draw()"
   ]
  },
  {
   "cell_type": "code",
   "execution_count": null,
   "id": "41484575-df35-4426-833f-5e11cc554456",
   "metadata": {},
   "outputs": [],
   "source": [
    "print(dfs(g, \"A\", \"B\"))\n",
    "print(dfs(g, \"A\", \"F\"))\n",
    "print(dfs(g, \"D\", \"B\"))\n",
    "print(dfs(g, \"F\", \"A\"))\n"
   ]
  },
  {
   "cell_type": "code",
   "execution_count": null,
   "id": "761a19b5-fca0-4ec5-b565-d27b452b04fe",
   "metadata": {},
   "outputs": [],
   "source": [
    "# directed graph\n",
    "g = AdjacencyListGraph()\n",
    "g.add_edge(\"A\", \"B\", directed=True)\n",
    "g.add_edge(\"A\", \"D\", directed=True)\n",
    "\n",
    "g.add_edge(\"B\", \"C\", directed=True)\n",
    "g.add_edge(\"B\", \"F\", directed=True)\n",
    "\n",
    "g.add_edge(\"C\", \"D\", directed=True)\n",
    "g.add_edge(\"C\", \"F\", directed=True)\n",
    "\n",
    "g.add_edge(\"D\", \"E\", directed=True)\n",
    "\n",
    "g.add_edge(\"F\", \"E\", directed=True)\n",
    "\n",
    "\n",
    "gd = GraphDraw(g, directed=True)\n",
    "gd.draw()"
   ]
  },
  {
   "cell_type": "code",
   "execution_count": null,
   "id": "4fcb03d9-3912-4fa6-9469-8be9e1e82937",
   "metadata": {},
   "outputs": [],
   "source": [
    "print(dfs(g, \"A\", \"B\"))\n",
    "print(dfs(g, \"A\", \"F\"))\n",
    "print(dfs(g, \"D\", \"B\"))\n",
    "print(dfs(g, \"F\", \"A\"))\n"
   ]
  },
  {
   "cell_type": "markdown",
   "id": "7c028a60-36d8-4bad-9591-9c00f7fc570c",
   "metadata": {},
   "source": [
    "## <a name=\"question-2\"></a>2. Verify Path BFS in an Adjacency Matrix\n",
    "\n",
    "Write a function that performs breadth-first search (BFS) on a graph represented as an adjacency matrix. \n",
    "\n",
    "The function should take the following inputs:\n",
    "* A starting vertex\n",
    "* An ending vertex\n",
    "\n",
    "The function should return a Boolean indicating whether a path exists between the two vertices.\n",
    "\n"
   ]
  },
  {
   "cell_type": "code",
   "execution_count": null,
   "id": "4a11305b-5cb6-4375-8df4-8ef04c4b80b6",
   "metadata": {},
   "outputs": [],
   "source": [
    "from dsa.graph import AdjacencyMatrixGraph\n",
    "\n",
    "def bfs_adjacency_matrix(graph, start, end):\n",
    "    visited = set()  # Track visited nodes to avoid revisiting\n",
    "    start_label = graph.label_index[start]  # Convert start node label to index\n",
    "    end_label = graph.label_index[end]      # Convert end node label to index\n",
    "    queue = [start_label]  # Initialize the queue with the start node\n",
    "\n",
    "    while queue:\n",
    "        current = queue.pop(0)  # Dequeue the front element (FIFO for BFS)\n",
    "\n",
    "        if current == end_label:\n",
    "            return True  # Found a path to the target node\n",
    "\n",
    "        visited.add(current)  # Mark current node as visited\n",
    "\n",
    "        # Check each adjacent of the current node\n",
    "        for adjacent, is_edge in enumerate(graph.array[current]):\n",
    "            # If there's an edge and the adjacent hasn't been visited\n",
    "            if is_edge and adjacent not in visited and adjacent not in queue:\n",
    "                queue.append(adjacent)  # Enqueue the adjacent\n",
    "\n",
    "    return False  # If the end node is not reachable"
   ]
  },
  {
   "cell_type": "code",
   "execution_count": null,
   "id": "094dc952-edbf-4551-928d-5e658de2f390",
   "metadata": {},
   "outputs": [],
   "source": [
    "# undirected graph\n",
    "dgraph = AdjacencyMatrixGraph([\"A\", \"B\", \"C\", \"D\", \"E\", \"F\"])\n",
    "dgraph.add_edge(\"A\", \"B\")\n",
    "dgraph.add_edge(\"A\", \"D\")\n",
    "\n",
    "dgraph.add_edge(\"B\", \"C\")\n",
    "dgraph.add_edge(\"B\", \"F\")\n",
    "\n",
    "dgraph.add_edge(\"C\", \"D\")\n",
    "dgraph.add_edge(\"C\", \"F\")\n",
    "\n",
    "dgraph.add_edge(\"D\", \"E\") \n",
    "dgraph.add_edge(\"E\", \"F\") \n",
    "dgraph.print_graph()\n",
    "\n",
    "print(bfs_adjacency_matrix(dgraph, start=\"A\", end=\"D\"))\n",
    "print(bfs_adjacency_matrix(dgraph, start=\"A\", end=\"F\"))\n",
    "print(bfs_adjacency_matrix(dgraph, start=\"C\", end=\"D\"))\n",
    "print(bfs_adjacency_matrix(dgraph, start=\"C\", end=\"E\"))\n",
    "print(bfs_adjacency_matrix(dgraph, start=\"E\", end=\"C\"))\n",
    "print(bfs_adjacency_matrix(dgraph, start=\"F\", end=\"A\"))"
   ]
  },
  {
   "cell_type": "code",
   "execution_count": null,
   "id": "9ada16d8-7a1d-426c-a579-62a2445906d1",
   "metadata": {},
   "outputs": [],
   "source": [
    "gd = GraphDraw(dgraph)\n",
    "gd.draw()"
   ]
  },
  {
   "cell_type": "markdown",
   "id": "17a97be8-673b-4f06-9283-f727faa38af3",
   "metadata": {},
   "source": [
    "Directed Graph example"
   ]
  },
  {
   "cell_type": "code",
   "execution_count": null,
   "id": "c176f12a-76ac-4b0b-b152-1516eb73b216",
   "metadata": {},
   "outputs": [],
   "source": [
    "gd = GraphDraw(dgraph, directed=True)\n",
    "gd.draw()"
   ]
  },
  {
   "cell_type": "code",
   "execution_count": null,
   "id": "670b8781-9e4a-48e2-9cdf-856201a4167d",
   "metadata": {},
   "outputs": [],
   "source": [
    "dgraph = AdjacencyMatrixGraph([\"A\", \"B\", \"C\", \"D\", \"E\", \"F\"])\n",
    "dgraph.add_edge(\"A\", \"B\", directed=True)\n",
    "dgraph.add_edge(\"A\", \"D\", directed=True)\n",
    "\n",
    "dgraph.add_edge(\"B\", \"C\", directed=True)\n",
    "dgraph.add_edge(\"B\", \"F\", directed=True)\n",
    "\n",
    "dgraph.add_edge(\"C\", \"D\", directed=True)\n",
    "dgraph.add_edge(\"C\", \"F\", directed=True)\n",
    "\n",
    "dgraph.add_edge(\"D\", \"E\", directed=True)\n",
    "dgraph.add_edge(\"E\", \"F\", directed=True)\n",
    "dgraph.print_graph()\n",
    "\n",
    "print(bfs_adjacency_matrix(dgraph, start=\"A\", end=\"D\"))\n",
    "print(bfs_adjacency_matrix(dgraph, start=\"A\", end=\"F\"))\n",
    "print(bfs_adjacency_matrix(dgraph, start=\"C\", end=\"D\"))\n",
    "print(bfs_adjacency_matrix(dgraph, start=\"C\", end=\"E\"))\n",
    "print(bfs_adjacency_matrix(dgraph, start=\"E\", end=\"C\"))\n",
    "print(bfs_adjacency_matrix(dgraph, start=\"F\", end=\"A\"))\n"
   ]
  },
  {
   "cell_type": "code",
   "execution_count": null,
   "id": "0123333b-93c8-4c72-a8da-e644139d33f5",
   "metadata": {},
   "outputs": [],
   "source": []
  },
  {
   "attachments": {},
   "cell_type": "markdown",
   "id": "430e75b7-6054-4a51-bf1d-43081d1022b3",
   "metadata": {},
   "source": [
    "## <a name=\"question-1\"></a>3. Negative Weights in Dijkstra's Algorithm\n",
    "\n",
    "Why does Dijkstra's Algorithm NOT work for graphs with negative weights? Come up with an example graph that demonstrates this.\n",
    "\n",
    "In the following example, there is a negative path. The correct shortest path from A to B is A->C->B (weight of 3).\n",
    "However, Dijkstra returns the incorrect path of A->B (weight of 5). "
   ]
  },
  {
   "cell_type": "code",
   "execution_count": 1,
   "id": "efc3a000-0cff-40bc-9165-6e7af1e6389f",
   "metadata": {},
   "outputs": [],
   "source": [
    "from dsa.heap import MinHeap\n",
    "\n",
    "def dijkstra(graph, start):\n",
    "    \"\"\"\n",
    "    Find shortest paths from start vertex to all other vertices using Dijkstra's algorithm.\n",
    "    \n",
    "    Args:\n",
    "        graph: Dictionary where keys are vertices and values are lists of (adjacent, weight) tuples\n",
    "        start: Starting vertex\n",
    "    \n",
    "    Returns:\n",
    "        weight_table: Dictionary mapping each vertex to its shortest distance from start\n",
    "        predecessor_table: Dictionary mapping each vertex to its predecessor_table vertex in shortest path\n",
    "    \"\"\"\n",
    "    # Initialize weight_table and predecessor_tables\n",
    "    weight_table = {v:float(\"inf\") for v in graph.vertices()} \n",
    "    predecessor_table = {}\n",
    "    weight_table[start] = 0\n",
    "\n",
    "    # Hash set to keep track of visited vertices\n",
    "    visited = set()\n",
    "\n",
    "    # Priority queue: (distance, vertex) - insert starting vertex\n",
    "    pq = MinHeap()\n",
    "    pq.insert((0, start))\n",
    "    \n",
    "    while not pq.is_empty():\n",
    "        current_weight, current = pq.pop() #heapq.heappop(pq)\n",
    "        \n",
    "        # Skip if already visited\n",
    "        if current in visited:\n",
    "            continue\n",
    "            \n",
    "        visited.add(current)\n",
    "        \n",
    "        # Check all adjacents\n",
    "        for adjacent, weight in graph[current].items():\n",
    "            if adjacent in visited:\n",
    "                continue\n",
    "                \n",
    "            new_weight = current_weight + weight\n",
    "            # If we found a shorter path, update it\n",
    "            if new_weight < weight_table[adjacent]:\n",
    "                weight_table[adjacent] = new_weight\n",
    "                predecessor_table[adjacent] = current\n",
    "                pq.insert((new_weight, adjacent))\n",
    "    return weight_table, predecessor_table\n",
    "\n",
    "def get_shortest_path(predecessor_table, start, end):\n",
    "    \"\"\"\n",
    "    Reconstruct the shortest path from start to end using the predecessor_table dictionary.\n",
    "    \n",
    "    Args:\n",
    "        predecessor_table: Dictionary from dijkstra function\n",
    "        start: Starting vertex\n",
    "        end: Ending vertex\n",
    "    \n",
    "    Returns:\n",
    "        List of vertices representing the shortest path, or None if no path exists\n",
    "    \"\"\"\n",
    "    if end not in predecessor_table and end != start:\n",
    "        return None  # No path exists\n",
    "    \n",
    "    path = []\n",
    "    current = end\n",
    "    \n",
    "    while current is not None:\n",
    "        path.append(current)\n",
    "        current = predecessor_table.get(current)\n",
    "    \n",
    "    path.reverse()\n",
    "    return path if path[0] == start else None"
   ]
  },
  {
   "cell_type": "code",
   "execution_count": 2,
   "id": "05fda511-c01d-482f-84da-236c6e7aefad",
   "metadata": {},
   "outputs": [
    {
     "data": {
      "image/png": "[encoded data removed]",
      "text/plain": [
       "<Figure size 500x300 with 1 Axes>"
      ]
     },
     "metadata": {},
     "output_type": "display_data"
    }
   ],
   "source": [
    "from dsa.graph import AdjacencyListWeightedGraph\n",
    "from dsa.dijkstras import shortest_path, find_path\n",
    "from dsa.draw import GraphDraw\n",
    "\n",
    "graph = AdjacencyListWeightedGraph()\n",
    "graph.add_edge('A', 'B', 5, directed=True)\n",
    "graph.add_edge('A', 'C', 6, directed=True)\n",
    "graph.add_edge('C', 'B', -3, directed=True)\n",
    "\n",
    "gd = GraphDraw(graph, weighted=True)\n",
    "gd.draw()\n",
    "\n"
   ]
  },
  {
   "cell_type": "markdown",
   "id": "9a9fe752-b52a-45bb-ba67-d2f5bdacfea0",
   "metadata": {},
   "source": [
    "In the following example, there is a negative path. The correct shortest path from A to B is A->C->B (weight of 3).\n",
    "However, Dijkstra returns the incorrect path of A->B (weight of 5). "
   ]
  },
  {
   "cell_type": "code",
   "execution_count": 3,
   "id": "5e25e486-4fc8-4ab6-a830-f3ff497ad440",
   "metadata": {},
   "outputs": [
    {
     "name": "stdout",
     "output_type": "stream",
     "text": [
      "Shortest weight_table from A:\n",
      "  A -> A: 0\n",
      "  A -> B: 5\n",
      "  A -> C: 2\n"
     ]
    },
    {
     "data": {
      "text/plain": [
       "['A', 'B']"
      ]
     },
     "execution_count": 3,
     "metadata": {},
     "output_type": "execute_result"
    }
   ],
   "source": [
    "g = AdjacencyListWeightedGraph()\n",
    "g.add_edge('A', 'B', 5)\n",
    "g.add_edge('A', 'C', 6)\n",
    "g.add_edge('B', 'C', -3)\n",
    "\n",
    "weight_table, predecessor_table = dijkstra(g, 'A')\n",
    "\n",
    "print(\"Shortest weight_table from A:\")\n",
    "for vertex in sorted(weight_table.keys()):\n",
    "    print(f\"  A -> {vertex}: {weight_table[vertex]}\")\n",
    "get_shortest_path(predecessor_table, \"A\", \"B\")"
   ]
  },
  {
   "cell_type": "code",
   "execution_count": 4,
   "id": "7906b280-15da-4a12-b81d-2a2389b7746b",
   "metadata": {},
   "outputs": [
    {
     "data": {
      "text/plain": [
       "{'B': 'A', 'C': 'B'}"
      ]
     },
     "execution_count": 4,
     "metadata": {},
     "output_type": "execute_result"
    }
   ],
   "source": [
    "predecessor_table"
   ]
  },
  {
   "cell_type": "markdown",
   "id": "c365d49f-1c66-4507-88dc-acce9b2f9249",
   "metadata": {},
   "source": [
    "## <a name=\"question-4\"></a>4. Validate Path in a Directed Acyclic Graph \n",
    "\n",
    "Write a function that determines whether a given path is valid within a directed graph. The function should accept:\n",
    "* A directed acyclic graph can be represented using either an adjacency list or an adjacency matrix\n",
    "* A sequence of nodes representing the path to be validated\n",
    "\n",
    "The function should return a Boolean indicating whether the path follows valid directed edges within the graph. \n",
    "\n",
    "Make sure to consider edge cases such as:\n",
    "* An empty path\n",
    "* A path containing nodes not present in the graph\n",
    "* A single-node path\n",
    "* Cycles within the graph\n"
   ]
  },
  {
   "cell_type": "markdown",
   "id": "eb0d69c6-14e7-4f31-b764-f9f625737922",
   "metadata": {},
   "source": [
    "adjacency list version"
   ]
  },
  {
   "cell_type": "code",
   "execution_count": null,
   "id": "9f64a01d-81f9-4ba2-881b-af6a3f3754da",
   "metadata": {},
   "outputs": [],
   "source": [
    "from dsa.graph import AdjacencyListGraph\n",
    "\n",
    "def is_valid_path(graph, path):\n",
    "    if not path:\n",
    "        return False\n",
    "\n",
    "    if path[0] not in graph.vertices():\n",
    "        return False\n",
    "\n",
    "    if len(path) == 0:\n",
    "        return False  # An empty path is not valid\n",
    "\n",
    "    previous = path[0]  # Start from the first vertex\n",
    "\n",
    "    for vertex in path[1:]:\n",
    "        # Check if the next vertex is adjacent to the previous one\n",
    "        if vertex not in graph.adjacents(previous):\n",
    "            return False  # Invalid if no direct edge exists\n",
    "        previous = vertex  \n",
    "\n",
    "    return True  \n",
    "    \n",
    "g = AdjacencyListGraph()\n",
    "g.add_edge(\"A\", \"B\", directed=True)\n",
    "g.add_edge(\"A\", \"D\", directed=True)\n",
    "\n",
    "g.add_edge(\"B\", \"C\", directed=True)\n",
    "g.add_edge(\"B\", \"F\", directed=True)\n",
    "\n",
    "g.add_edge(\"C\", \"D\", directed=True)\n",
    "g.add_edge(\"C\", \"F\", directed=True)\n",
    "\n",
    "g.add_edge(\"D\", \"E\", directed=True)\n",
    "g.add_edge(\"E\", \"F\", directed=True)\n",
    "\n",
    "print(is_valid_path(g, [\"A\", \"B\", \"C\", \"D\", \"E\", \"F\"]))\n",
    "print(is_valid_path(g, [\"A\", \"C\"]))\n",
    "print(is_valid_path(g, [\"B\", \"C\", \"D\"]))\n",
    "print(is_valid_path(g, [\"B\", \"C\", \"D\", \"F\"]))\n",
    "print(is_valid_path(g, [\"X\"]))\n",
    "print(is_valid_path(g, []))\n"
   ]
  },
  {
   "cell_type": "code",
   "execution_count": null,
   "id": "16b66d75-3697-41aa-966a-2e483238d305",
   "metadata": {},
   "outputs": [],
   "source": [
    "gd = GraphDraw(g, directed=True)\n",
    "gd.draw()"
   ]
  },
  {
   "cell_type": "markdown",
   "id": "39207346-d09b-4a41-8d00-d8015bf1be5e",
   "metadata": {},
   "source": [
    "adjacency matrix version"
   ]
  },
  {
   "cell_type": "code",
   "execution_count": null,
   "id": "ba1fca43-f5c5-4249-b2cd-7fa5fb838867",
   "metadata": {},
   "outputs": [],
   "source": [
    "from dsa.graph import AdjacencyMatrixGraph\n",
    "\n",
    "def is_valid_path(graph, path):\n",
    "    \"\"\"\n",
    "    Check whether the given path is valid in a directed acyclic graph (DAG).\n",
    "\n",
    "    Parameters:\n",
    "    - graph: A dictionary representing the adjacency list of the graph.\n",
    "    - path: A list representing the path to be checked.\n",
    "\n",
    "    Returns:\n",
    "    - True if the path is valid, False otherwise.\n",
    "    \"\"\"\n",
    "\n",
    "    for i in range(len(path) - 1):\n",
    "        current = path[i]\n",
    "        next = path[i + 1]\n",
    "\n",
    "        if current not in graph.vertices():\n",
    "            return False\n",
    "\n",
    "        # Check if the next node exists in the adjacency list of the current node\n",
    "        if not graph.is_edge(current, next):\n",
    "            return False\n",
    "\n",
    "    # Check if the last node exists in the graph\n",
    "    if path[-1] not in graph.labels:\n",
    "        return False\n",
    "\n",
    "    return True"
   ]
  },
  {
   "cell_type": "code",
   "execution_count": null,
   "id": "1c953457-c255-478c-a91d-5ad905aca73c",
   "metadata": {},
   "outputs": [],
   "source": [
    "g = AdjacencyMatrixGraph([\"A\", \"B\", \"C\", \"D\", \"E\", \"F\"])\n",
    "g.add_edge(\"A\", \"B\", directed=True)\n",
    "g.add_edge(\"A\", \"D\", directed=True)\n",
    "\n",
    "g.add_edge(\"B\", \"C\", directed=True)\n",
    "g.add_edge(\"B\", \"F\", directed=True)\n",
    "\n",
    "g.add_edge(\"C\", \"D\", directed=True)\n",
    "g.add_edge(\"C\", \"F\", directed=True)\n",
    "\n",
    "g.add_edge(\"D\", \"E\", directed=True)\n",
    "g.add_edge(\"E\", \"F\", directed=True)\n",
    "\n"
   ]
  },
  {
   "cell_type": "code",
   "execution_count": null,
   "id": "31f047f1-ac16-432b-bf09-cc50562a30ce",
   "metadata": {},
   "outputs": [],
   "source": [
    "gd = GraphDraw(g, directed=True)\n",
    "gd.draw()\n"
   ]
  },
  {
   "cell_type": "code",
   "execution_count": null,
   "id": "0576eac4-f27a-4703-be25-ad6f543c602e",
   "metadata": {},
   "outputs": [],
   "source": [
    "print(is_valid_path(g, [\"A\", \"B\", \"C\", \"D\", \"E\", \"F\"]))\n",
    "print(is_valid_path(g, [\"A\", \"C\"]))\n",
    "print(is_valid_path(g, [\"B\", \"C\", \"D\"]))\n",
    "print(is_valid_path(g, [\"B\", \"C\", \"D\", \"F\"]))"
   ]
  },
  {
   "cell_type": "markdown",
   "id": "58418bec-b763-437a-978a-8863dcf43a41",
   "metadata": {},
   "source": [
    "## <a name=\"question-5\"></a>5. MST Verifier\n",
    "\n",
    "Write a function that accepts:\n",
    "* A weighted undirected graph\n",
    "* A subgraph (tree)\n",
    "\n",
    "It should verify whether the subgraph is a minimum spanning tree in the graph.\n",
    "\n",
    "It should return True if:\n",
    "* Subgraph is a tree (i.e., connected and acyclic)\n",
    "* Subgraph spans all vertices in the graph\n",
    "* Subgraph is of minimum possible total weight\n",
    "* Do not assume subgraph is already an MST\n",
    "\n",
    "Using the Graph class and Prims' Algorithm from the DSA package should help with this section. \n",
    "\n",
    "\n",
    "\n"
   ]
  },
  {
   "cell_type": "markdown",
   "id": "4752e967-5fdd-40ea-acc0-a9c5ee5a84e2",
   "metadata": {},
   "source": [
    "Create example graph and MST\n",
    "* t1 is a valid MST\n",
    "* t2 is a tree with a node missing from the MST\n",
    "* t3 is a tree with a cycle"
   ]
  },
  {
   "cell_type": "code",
   "execution_count": null,
   "id": "b2457455-580d-418d-b4c0-f59d24301139",
   "metadata": {},
   "outputs": [],
   "source": [
    "from dsa.prim import prims_mst, mst_weight\n",
    "from dsa.graph import AdjacencyListWeightedGraph, AdjacencyMatrixWeightedGraph\n",
    "from dsa.draw import GraphDraw\n",
    "\n",
    "\n",
    "g = AdjacencyListWeightedGraph()\n",
    "g.add_edge(\"A\", \"B\", 3)\n",
    "g.add_edge(\"A\", \"D\", 4)\n",
    "g.add_edge(\"A\", \"F\", 20)\n",
    "\n",
    "g.add_edge(\"B\", \"C\", 4)\n",
    "g.add_edge(\"B\", \"E\", 2)\n",
    "\n",
    "g.add_edge(\"C\", \"F\", 5)\n",
    "g.add_edge(\"D\", \"E\", 5)\n",
    "\n",
    "g.add_edge(\"E\", \"F\", 2)\n",
    "\n",
    "t1 = prims_mst(g, \"A\")\n",
    "\n",
    "pos = {\n",
    "'A': (0, .5),\n",
    "'B': (1, 1),\n",
    "'C': (2, 1),\n",
    "'D': (1, 0),\n",
    "'E': (2, 0),\n",
    "'F': (3, .5),\n",
    "}\n",
    "gd = GraphDraw(g, weighted=True)\n",
    "gd.draw(pos=pos)\n",
    "\n",
    "\n"
   ]
  },
  {
   "cell_type": "markdown",
   "id": "08ae9a17-fe5d-4e86-9687-b6401a1c7541",
   "metadata": {},
   "source": [
    "Tree 1"
   ]
  },
  {
   "cell_type": "code",
   "execution_count": null,
   "id": "473c9113-99f1-4d41-acdb-69b86f7c5f21",
   "metadata": {},
   "outputs": [],
   "source": [
    "gd = GraphDraw(t1, weighted=True)\n",
    "gd.draw(pos=pos)\n"
   ]
  },
  {
   "cell_type": "markdown",
   "id": "44e22fef-f76a-481a-9c8e-25b9fb263fbc",
   "metadata": {},
   "source": [
    "Tree 2"
   ]
  },
  {
   "cell_type": "code",
   "execution_count": null,
   "id": "c2a83b6d-17c6-45c3-9d6b-cccce90f7511",
   "metadata": {},
   "outputs": [],
   "source": [
    "t2 = AdjacencyListWeightedGraph()\n",
    "t2.add_edge(\"A\", \"B\", 3)\n",
    "t2.add_edge(\"A\", \"D\", 4)\n",
    "\n",
    "t2.add_edge(\"B\", \"C\", 4)\n",
    "t2.add_edge(\"B\", \"E\", 2)\n",
    "\n",
    "gd = GraphDraw(t2, weighted=True)\n",
    "gd.draw(pos=pos)\n"
   ]
  },
  {
   "cell_type": "markdown",
   "id": "a3034d17-b0ea-4f67-9c46-87d22e172f0e",
   "metadata": {},
   "source": [
    "Tree 3"
   ]
  },
  {
   "cell_type": "code",
   "execution_count": null,
   "id": "748aa1e0-9b0e-4f21-a8c5-bd4ca51f82f0",
   "metadata": {},
   "outputs": [],
   "source": [
    "t3 = AdjacencyListWeightedGraph()\n",
    "t3.add_edge(\"A\", \"B\", 3)\n",
    "t3.add_edge(\"A\", \"D\", 4)\n",
    "\n",
    "t3.add_edge(\"B\", \"C\", 4)\n",
    "t3.add_edge(\"B\", \"E\", 2)\n",
    "t3.add_edge(\"E\", \"F\", 2)\n",
    "\n",
    "t3.add_edge(\"C\", \"F\", 5)\n",
    "\n",
    "gd = GraphDraw(t3, weighted=True)\n",
    "gd.draw(pos=pos)\n"
   ]
  },
  {
   "cell_type": "code",
   "execution_count": null,
   "id": "573e19b4-0b2c-4133-beb2-f174a57eabe3",
   "metadata": {},
   "outputs": [],
   "source": [
    "import random\n",
    "from dsa.queue import Queue\n",
    "\n",
    "def bfs_check_cycle(graph, start):\n",
    "    ''' BFS traversal to check for cycles and collect connected vertices. \n",
    "    Accepts a graph and a starting vertex label '''\n",
    "    queue = Queue()\n",
    "    visited = {start}\n",
    "    parent = {start: None}\n",
    "    queue.enqueue(start)\n",
    "\n",
    "    while not queue.is_empty():\n",
    "        current = queue.dequeue()\n",
    "        for adjacent in graph.adjacents(current):\n",
    "            if adjacent not in visited:\n",
    "                visited.add(adjacent)\n",
    "                parent[adjacent] = current\n",
    "                queue.enqueue(adjacent)\n",
    "            elif parent[current] != adjacent:\n",
    "                # A cycle is detected\n",
    "                return set()\n",
    "    return visited\n",
    "\n",
    "def verify_mst(graph, mst):\n",
    "    ''' Verifies whether a subgraph (MST) is a valid MST found in graph '''\n",
    "    # Check if the sets of vertices match\n",
    "    if set(graph.vertices()) != set(mst.vertices()):\n",
    "        return False\n",
    "\n",
    "    # the starting point should not affect the MST weight\n",
    "    start = random.choice(graph.vertices())\n",
    "\n",
    "    # Compare total weights of expected MST and provided MST\n",
    "    if mst_weight(prims_mst(graph, start)) != mst_weight(mst):\n",
    "        return False\n",
    "\n",
    "    # Ensure the MST is connected and acyclic\n",
    "    return bfs_check_cycle(mst, start) == set(graph.vertices())\n",
    "\n",
    "print(verify_mst(g, t1))\n",
    "print(verify_mst(g, t2))\n",
    "print(verify_mst(g, t3))\n"
   ]
  },
  {
   "cell_type": "code",
   "execution_count": null,
   "id": "29e74c1d-44ec-4bfa-ae4b-291cb8092c42",
   "metadata": {},
   "outputs": [],
   "source": []
  }
 ],
 "metadata": {
  "kernelspec": {
   "display_name": "Python 3 (ipykernel)",
   "language": "python",
   "name": "python3"
  },
  "language_info": {
   "codemirror_mode": {
    "name": "ipython",
    "version": 3
   },
   "file_extension": ".py",
   "mimetype": "text/x-python",
   "name": "python",
   "nbconvert_exporter": "python",
   "pygments_lexer": "ipython3",
   "version": "3.11.11"
  }
 },
 "nbformat": 4,
 "nbformat_minor": 5
}
